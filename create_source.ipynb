{
 "cells": [
  {
   "cell_type": "code",
   "execution_count": 42,
   "metadata": {},
   "outputs": [],
   "source": [
    "import sys\n",
    "import os\n",
    "from pathlib import Path\n",
    "import shutil\n",
    "from random import randint"
   ]
  },
  {
   "cell_type": "code",
   "execution_count": 43,
   "metadata": {},
   "outputs": [],
   "source": [
    "SOURCEFOLDER = \"./source/\""
   ]
  },
  {
   "cell_type": "code",
   "execution_count": 44,
   "metadata": {},
   "outputs": [],
   "source": [
    "MasterArray = {}\n",
    "for dir in os.listdir(\"/run/media/arkiven4/Project/Tugas_Akhir/Hasil_Training/\"):\n",
    "    Path(SOURCEFOLDER + dir).mkdir(parents=True, exist_ok=True)\n",
    "    MasterArray[dir] = {}\n",
    "    for gender_dir in os.listdir(\"/run/media/arkiven4/Project/Tugas_Akhir/Hasil_Training/\" + dir):\n",
    "        Path(f\"{SOURCEFOLDER}/{dir}/{gender_dir}/\").mkdir(parents=True, exist_ok=True)\n",
    "        MasterArray[dir][gender_dir] = {}\n",
    "        for emotion_dir in os.listdir(\"/run/media/arkiven4/Project/Tugas_Akhir/Hasil_Training/\" + dir + \"/\"+gender_dir):\n",
    "            Path(f\"{SOURCEFOLDER}/{dir}/{gender_dir}/{emotion_dir}\").mkdir(parents=True, exist_ok=True)\n",
    "            MasterArray[dir][gender_dir][emotion_dir] = {\"file\": [], \"txt\": []}"
   ]
  },
  {
   "cell_type": "code",
   "execution_count": 45,
   "metadata": {},
   "outputs": [],
   "source": [
    "for subdir, dirs, files in os.walk(\"/run/media/arkiven4/Project/Tugas_Akhir/Hasil_Training/\"):\n",
    "    for file in files:\n",
    "        fullpath = os.path.join(subdir, file)\n",
    "        pathArray = fullpath.split('/')\n",
    "        metafile = fullpath.split('/')[-1].split('.')\n",
    "        if len(metafile) > 1:\n",
    "            if metafile[1] == 'wav':\n",
    "                path_array = subdir.split(\"/\")\n",
    "                emotion = path_array[-1]\n",
    "                gender = path_array[-2]\n",
    "                variation = path_array[-3]\n",
    "                shutil.copy(f\"{fullpath}\", f\"{SOURCEFOLDER}/{variation}/{gender}/{emotion}/{file}\")\n",
    "                with open(f'/run/media/arkiven4/Other/TA/HTS/Database/Data_Preparation_Ekspresif_Pras/{gender}/txt/{metafile[0]}.txt') as f:\n",
    "                    lines = f.readlines()[0].strip()\n",
    "                    MasterArray[variation][gender][emotion][\"txt\"].append(lines)\n",
    "                    MasterArray[variation][gender][emotion][\"file\"].append(f\"/source/{variation}/{gender}/{emotion}/{file}\")\n",
    "                    "
   ]
  },
  {
   "cell_type": "code",
   "execution_count": 108,
   "metadata": {},
   "outputs": [
    {
     "name": "stdout",
     "output_type": "stream",
     "text": [
      "/source/IF/MDPA/Sedih/vibid_mdpa_410.wav\n",
      "/source/IF/MDPA/Sedih/vibid_mdpa_418.wav\n",
      "/source/IF/MDPA/Sedih/vibid_mdpa_420.wav\n"
     ]
    }
   ],
   "source": [
    "Gender = \"MDPA\"\n",
    "Emotion = \"Sedih\"\n",
    "nowArray = MasterArray['IF'][Gender][Emotion]\n",
    "rand_index = [randint(0, len(MasterArray['IF'][Gender][Emotion][\"file\"])) for p in range(0, 3)]\n",
    "html_data = \"\"\n",
    "\n",
    "for i in rand_index:\n",
    "    html_data = html_data + f'<tr> <th scope=\"row\">{i}</th> <td> <audio controls=\"\"> <source src=\"/ta_demo/source/Original/{MasterArray[\"IF\"][Gender][Emotion][\"file\"][i].split(\"/\")[-1]}\" type=\"audio/wav\" /> </audio> <p>{MasterArray[\"IF\"][Gender][Emotion][\"txt\"][i]}</p> </td> <td> <audio controls=\"\"> <source src=\"/ta_demo/{MasterArray[\"IF\"][Gender][Emotion][\"file\"][i]}\" type=\"audio/wav\" /> </audio> <p>{MasterArray[\"IF\"][Gender][Emotion][\"txt\"][i]}</p> </td> <td> <audio controls=\"\"> <source src=\"/ta_demo/{MasterArray[\"STR\"][Gender][Emotion][\"file\"][i]}\" type=\"audio/wav\" /> </audio> <p>{MasterArray[\"STR\"][Gender][Emotion][\"txt\"][i]}</p> </td> </tr>'\n",
    "    print(MasterArray['IF'][Gender][Emotion][\"file\"][i])\n",
    "\n",
    "with open(f\"output_{Gender}_{Emotion}.txt\", \"w\") as text_file:\n",
    "    text_file.write(html_data)"
   ]
  }
 ],
 "metadata": {
  "kernelspec": {
   "display_name": "Python 3.8.15 64-bit",
   "language": "python",
   "name": "python3"
  },
  "language_info": {
   "codemirror_mode": {
    "name": "ipython",
    "version": 3
   },
   "file_extension": ".py",
   "mimetype": "text/x-python",
   "name": "python",
   "nbconvert_exporter": "python",
   "pygments_lexer": "ipython3",
   "version": "3.8.15"
  },
  "orig_nbformat": 4,
  "vscode": {
   "interpreter": {
    "hash": "5b3ded1ccb95c1d9bd405e7b823d9e85424cde40fbb5985eb47e999ef50e15b4"
   }
  }
 },
 "nbformat": 4,
 "nbformat_minor": 2
}
